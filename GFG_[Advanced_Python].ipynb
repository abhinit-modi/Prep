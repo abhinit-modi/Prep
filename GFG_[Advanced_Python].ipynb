{
  "nbformat": 4,
  "nbformat_minor": 0,
  "metadata": {
    "colab": {
      "provenance": [],
      "toc_visible": true,
      "mount_file_id": "1rbrng4Gim98SWL2twM1mCUIAmyrOXfKo",
      "authorship_tag": "ABX9TyMt1oTzKBoQO0KFLy6/xZlA",
      "include_colab_link": true
    },
    "kernelspec": {
      "name": "python3",
      "display_name": "Python 3"
    },
    "language_info": {
      "name": "python"
    }
  },
  "cells": [
    {
      "cell_type": "markdown",
      "metadata": {
        "id": "view-in-github",
        "colab_type": "text"
      },
      "source": [
        "<a href=\"https://colab.research.google.com/github/abhinit-modi/Prep/blob/main/GFG_%5BAdvanced_Python%5D.ipynb\" target=\"_parent\"><img src=\"https://colab.research.google.com/assets/colab-badge.svg\" alt=\"Open In Colab\"/></a>"
      ]
    },
    {
      "cell_type": "code",
      "source": [
        "#@title Git clone\n",
        "\n",
        "!git clone https://github.com/abhinit-modi/Prep.git"
      ],
      "metadata": {
        "colab": {
          "base_uri": "https://localhost:8080/"
        },
        "id": "3TBpFfmAa47D",
        "outputId": "b2785aa9-3d60-4ad0-f36d-694154849dd6"
      },
      "execution_count": null,
      "outputs": [
        {
          "output_type": "stream",
          "name": "stdout",
          "text": [
            "Cloning into 'Prep'...\n",
            "remote: Enumerating objects: 3, done.\u001b[K\n",
            "remote: Counting objects: 100% (3/3), done.\u001b[K\n",
            "remote: Total 3 (delta 0), reused 0 (delta 0), pack-reused 0\u001b[K\n",
            "Receiving objects: 100% (3/3), done.\n"
          ]
        }
      ]
    },
    {
      "cell_type": "markdown",
      "source": [],
      "metadata": {
        "id": "PrDv24zYcLQs"
      }
    },
    {
      "cell_type": "code",
      "execution_count": null,
      "metadata": {
        "colab": {
          "base_uri": "https://localhost:8080/",
          "height": 35
        },
        "id": "yex2PD2HpdyA",
        "outputId": "3b9c5f04-17a2-46f2-dc2e-c7a312519764"
      },
      "outputs": [
        {
          "output_type": "execute_result",
          "data": {
            "text/plain": [
              "'gEEKS4gEEKS'"
            ],
            "application/vnd.google.colaboratory.intrinsic+json": {
              "type": "string"
            }
          },
          "metadata": {},
          "execution_count": 11
        }
      ],
      "source": [
        "#@title List Comprehension\n",
        "\n",
        "# [true_value if condition else false_val for variable in iterator]\n",
        "\n",
        "string = \"Geeks4Geeks\"\n",
        "toggle_string = \"\".join([ch if not ch.isalpha() else ch.lower() if ch.isupper() else ch.upper() for ch in string])\n",
        "toggle_string"
      ]
    },
    {
      "cell_type": "code",
      "source": [
        "#@title Dictionary comprehension\n",
        "\n",
        "# Init from keys and values\n",
        "\n",
        "keys = range(1, 11)\n",
        "values = [i**2 for i in keys]\n",
        "\n",
        "my_dict = {k:v for k,v in zip(keys, values)}\n",
        "print(my_dict)\n",
        "\n",
        "# Init to zero\n",
        "\n",
        "my_dict = dict.fromkeys(range(1,11), 0)\n",
        "print(my_dict)\n",
        "\n",
        "# Nested dict\n",
        "\n",
        "string = \"Abhinit\"\n",
        "my_dict = {ch : {i: string[i:] for i in range(j+1, len(string))} for j, ch in enumerate(\"AbhiNit\")}\n",
        "print(my_dict)"
      ],
      "metadata": {
        "colab": {
          "base_uri": "https://localhost:8080/"
        },
        "id": "J4tJ2PZjrsR6",
        "outputId": "50dbcc53-1ac6-4fec-f288-3682d1ca38e5"
      },
      "execution_count": null,
      "outputs": [
        {
          "output_type": "stream",
          "name": "stdout",
          "text": [
            "{1: 1, 2: 4, 3: 9, 4: 16, 5: 25, 6: 36, 7: 49, 8: 64, 9: 81, 10: 100}\n",
            "{1: 0, 2: 0, 3: 0, 4: 0, 5: 0, 6: 0, 7: 0, 8: 0, 9: 0, 10: 0}\n",
            "{'A': {1: 'bhinit', 2: 'hinit', 3: 'init', 4: 'nit', 5: 'it', 6: 't'}, 'b': {2: 'hinit', 3: 'init', 4: 'nit', 5: 'it', 6: 't'}, 'h': {3: 'init', 4: 'nit', 5: 'it', 6: 't'}, 'i': {6: 't'}, 'N': {5: 'it', 6: 't'}, 't': {}}\n"
          ]
        }
      ]
    },
    {
      "cell_type": "code",
      "source": [
        "order = \"\".join([chr(i) for i in range(ord(\"a\"), ord(\"z\")+1)])\n",
        "order"
      ],
      "metadata": {
        "colab": {
          "base_uri": "https://localhost:8080/",
          "height": 35
        },
        "id": "Dfen9ZjOy_e4",
        "outputId": "9257a05a-67ee-4126-e32e-b145b7ecf913"
      },
      "execution_count": null,
      "outputs": [
        {
          "output_type": "execute_result",
          "data": {
            "text/plain": [
              "'abcdefghijklmnopqrstuvwxyz'"
            ],
            "application/vnd.google.colaboratory.intrinsic+json": {
              "type": "string"
            }
          },
          "metadata": {},
          "execution_count": 33
        }
      ]
    },
    {
      "cell_type": "code",
      "source": [
        "#@title Lambda\n",
        "\n",
        "# Multi argument\n",
        "\n",
        "add_func = lambda x,y=-1 : x+y\n",
        "\n",
        "print(add_func(2,3))\n",
        "print(add_func(2))\n",
        "\n",
        "# Filter\n",
        "\n",
        "print(list(filter(lambda x: x%2==0, [1,9,12,4,6,12])))\n",
        "\n",
        "# Sorted\n",
        "\n",
        "print(sorted([1,7,0,8,12,9], key=lambda x: x*-1)) #reverse\n",
        "\n",
        "priority = {chr(i): i for i in range(ord(\"a\"), ord(\"z\")+1)}\n",
        "\n",
        "print(sorted(\"abhinit\", key=lambda x: priority[x])) #sort based on defined priority"
      ],
      "metadata": {
        "colab": {
          "base_uri": "https://localhost:8080/"
        },
        "id": "FZQdebUtwIkY",
        "outputId": "0393b65b-4d0e-4bab-9f44-6a1832f246ec"
      },
      "execution_count": null,
      "outputs": [
        {
          "output_type": "stream",
          "name": "stdout",
          "text": [
            "5\n",
            "1\n",
            "[12, 4, 6, 12]\n",
            "[12, 9, 8, 7, 1, 0]\n",
            "['a', 'b', 'h', 'i', 'i', 'n', 't']\n"
          ]
        }
      ]
    },
    {
      "cell_type": "code",
      "source": [
        "#@title Functools reduce\n",
        "\n",
        "import functools\n",
        "\n",
        "\n",
        "# To perform operations involve going over the entire sequence and getting one answer.\n",
        "# And each step involves an operation with two elements. Eg: sum of array, max of array\n",
        "\n",
        "\n",
        "arr = [1,4,3,8,5,6,1,5,3,1]\n",
        "\n",
        "max_element = functools.reduce(lambda x, y: max(x,y), arr)\n",
        "print(max_element)\n"
      ],
      "metadata": {
        "colab": {
          "base_uri": "https://localhost:8080/"
        },
        "id": "hcRscfivFmp5",
        "outputId": "084dc470-7f50-4dbc-b5d5-1de2bffb4041"
      },
      "execution_count": null,
      "outputs": [
        {
          "output_type": "stream",
          "name": "stdout",
          "text": [
            "8\n"
          ]
        }
      ]
    },
    {
      "cell_type": "code",
      "source": [
        "#@title Classes and Objects\n",
        "\n",
        "# Class\n",
        "# is a way to bundle data (attributes) and fucntionality (methods) together\n",
        "# is a blueprint\n",
        "# has attributes maintain state and methods modify that state\n",
        "# all methods/attributes in pythin class are public\n",
        "\n",
        "# Objects\n",
        "# have a state represented by attributes of the class\n",
        "# have a behavior represented by methods of the class\n",
        "# have an identity which is the unique name given to the object, using which they can also interact with other objects\n",
        "\n",
        "# Methods\n",
        "# Use __init__(self, *) as constructor to perform initializations\n",
        "# When a class is instantiated and a method is called, the first argument is ALWAYS by default the object itself (which is passed as self).\n",
        "# Use __str__(self) method to modify the string representation of the class which gets used in print(), str() functions. This is mostly in client code\n",
        "# Use __repr__(self) method to add more detailed string representation. This is used for debugging purposes by develpers.\n",
        "\n",
        "# Variables\n",
        "# Class variables are a property of the class and can only be changed or updated using Class.name.\n",
        "# They can be read using self.name in an object too, but cannot be updated\n",
        "# If updated using self.name, a new name property is created only for that object\n",
        "\n",
        "class Identity:\n",
        "\n",
        "  alias = 'person' #class level property, only one copy for all objects.\n",
        "\n",
        "  def __init__(somename, name, company): #first variable name need not be self\n",
        "    somename.name = name\n",
        "    somename.company = company\n",
        "\n",
        "  def show(): # will not work\n",
        "    print(\"Hello my name is \" + name +\n",
        "          \" and I work in \"+ company+\".\")\n",
        "\n",
        "  def show(self): # will work\n",
        "    Identity.alias = \"asasd\" #if one object changes the class variable value, all objects see it.\n",
        "    print(\"Hello, I am a \" + self.alias + \" and \" + Identity.alias + \". My name is \" + self.name +\n",
        "          \" and I work in \"+self.company+\".\")\n",
        "\n",
        "  def show_2(self):\n",
        "    print(\"show2: Hello, I am a \" + self.alias + \" and \" + Identity.alias + \". My name is \" + self.name +\n",
        "          \" and I work in \"+self.company+\".\")\n",
        "\n",
        "\n",
        "\n",
        "obj1 = Identity(\"John\", \"GeeksForGeeks\")\n",
        "obj2 = Identity(\"Abhinit\", \"Goog\")\n",
        "\n",
        "obj1.show()\n",
        "print(obj1.alias)\n",
        "obj2.show_2()"
      ],
      "metadata": {
        "colab": {
          "base_uri": "https://localhost:8080/"
        },
        "id": "-Leo125hLAf3",
        "outputId": "6fa7bc51-9402-4c15-935b-5ceb2e7ab494"
      },
      "execution_count": null,
      "outputs": [
        {
          "output_type": "stream",
          "name": "stdout",
          "text": [
            "Hello, I am a asasd and asasd. My name is John and I work in GeeksForGeeks.\n",
            "asasd\n",
            "show2: Hello, I am a asasd and asasd. My name is Abhinit and I work in Goog.\n"
          ]
        }
      ]
    },
    {
      "cell_type": "code",
      "source": [
        "#@title Object Class\n",
        "\n",
        "# Everything is an object in python. All classes and types inherit from the object class.\n"
      ],
      "metadata": {
        "id": "KiJQ3B9cYKm1"
      },
      "execution_count": null,
      "outputs": []
    },
    {
      "cell_type": "code",
      "source": [
        "#@title Inheritance\n",
        "\n",
        "# If modifying the constructor of the child class, make sure you call the constructor of the parent class.\n",
        "\n",
        "class Person():\n",
        "  identity = \"person\"\n",
        "\n",
        "  def __init__(self, name, age):\n",
        "    self.name = name\n",
        "    self.age = age\n",
        "\n",
        "  def display(self):\n",
        "    print(self.name, self.age)\n",
        "\n",
        "# child class\n",
        "class Student(Person):\n",
        "  def __init__(self, name, age, dob):\n",
        "    # self.sName = name\n",
        "    # self.sAge = age\n",
        "    super().__init__(name, age)\n",
        "    self.dob = dob\n",
        "    # inheriting the properties of parent class\n",
        "\n",
        "\n",
        "  def display(self):\n",
        "    super().display()\n",
        "    print(self.dob)\n",
        "\n",
        "person = Student(\"Aditi\", 31, '07-07-1992')\n",
        "print(person.identity)\n",
        "print(person.__dict__)\n",
        "obj = Student(\"Mayank\", 23, \"16-03-2000\")\n",
        "obj.display()\n",
        "obj.display()\n",
        "\n",
        "#Multi Level Inheritance\n",
        "\n",
        "print(\"------------------------------------\")\n",
        "\n",
        "class Base1(object):\n",
        "  def __init__(self):\n",
        "    self.str1 = \"Geek1\"\n",
        "    print(\"Base1\")\n",
        "\n",
        "  def print_me(self):\n",
        "    print(\"Base1: \", self.str1)\n",
        "\n",
        "\n",
        "class Base2(object):\n",
        "  def __init__(self):\n",
        "    self.str1 = \"Geek2\"\n",
        "    print(\"Base2\")\n",
        "\n",
        "  def print_me(self):\n",
        "    print(\"Base2: \", self.str1)\n",
        "\n",
        "class Derived(Base1, Base2):\n",
        "  def __init__(self):\n",
        "    Base2.__init__(self)\n",
        "    Base1.__init__(self) # if both parents have same property/method names, the one called later will take percedence\n",
        "    print(\"Derived\")\n",
        "\n",
        "  def print_strs(self):\n",
        "    print(self.str1)\n",
        "\n",
        "ob = Derived()\n",
        "ob.print_strs()\n",
        "ob.print_me()"
      ],
      "metadata": {
        "colab": {
          "base_uri": "https://localhost:8080/"
        },
        "id": "9v-Q_iiWZtX1",
        "outputId": "de760cf7-cacc-479c-d283-019c5ee068c3"
      },
      "execution_count": null,
      "outputs": [
        {
          "output_type": "stream",
          "name": "stdout",
          "text": [
            "person\n",
            "{'name': 'Aditi', 'age': 31, 'dob': '07-07-1992'}\n",
            "Mayank 23\n",
            "16-03-2000\n",
            "Mayank 23\n",
            "16-03-2000\n",
            "------------------------------------\n",
            "Base2\n",
            "Base1\n",
            "Derived\n",
            "Geek1\n",
            "Base1:  Geek1\n"
          ]
        }
      ]
    },
    {
      "cell_type": "code",
      "source": [
        "#@title Encapsulation\n",
        "\n",
        "# The idea of bundling related data and methods into one unit so that we have control over access and state management. It helps isolation\n",
        "# Variables of a class are attributes of that class Eg: side for class Square\n",
        "# Properties are named attributes of an object that are used to read/update/perform operation using variables. These are featuers of the class but could be computed. Eg: side, area of class Square\n",
        "# Methods are functions which can be performed on the objects, among the objects. Eg: dialate, rotate in class Square\n",
        "\n",
        "# Private\n",
        "# Use __ to make methods and properties private\n",
        "# print(myObject._MyClass__hiddenVariable) - trick to access private variable\n",
        "\n",
        "\n",
        "# Protected\n",
        "# Use _ to make methods and properties protected. Protected members can be accessed in methods of that class and subclasses. They can also be accessed outside the class but this is not recommended\n",
        "\n",
        "class Demo(object):\n",
        "  def __init__(self):\n",
        "    self.a = 10\n",
        "    self.__b = 20\n",
        "    self._c = 30\n",
        "    self._private_print()\n",
        "\n",
        "  def print(self):\n",
        "    print(self.a, self.__b, self._c) # can access private here\n",
        "\n",
        "  def _private_print(self):\n",
        "    print(self.a, self.__b, self._c)\n",
        "\n",
        "  private_print = _private_print\n",
        "\n",
        "\n",
        "class SubDemo(Demo):\n",
        "  def __init__(self):\n",
        "    Demo.__init__(self)\n",
        "    self._c = 50 #protected can be accessed here\n",
        "\n",
        "  def private_print(self):\n",
        "    print(self.a, self.__b, self._c)\n",
        "\n",
        "\n",
        "\n",
        "demo = Demo()\n",
        "demo.print()\n",
        "print(demo.a, demo._c) #protected can be accessed here\n",
        "print(demo.__dict__)\n",
        "print(demo._Demo__b)\n",
        "demo._Demo__private_print()\n",
        "# print(demo.__b) # private cannot be accessed\n",
        "\n",
        "subdemo = SubDemo()\n",
        "subdemo.print()\n",
        "print(subdemo.__dict__) # Private variable of Demo is part of subdemo but cannot be accessed in subdemo\n",
        "print(subdemo._c) #protected can be accessed here\n",
        "subdemo._SubDemo__private_print()"
      ],
      "metadata": {
        "colab": {
          "base_uri": "https://localhost:8080/",
          "height": 436
        },
        "id": "whHskm6ScWpa",
        "outputId": "3f2c58bc-01fe-43d0-b325-850b523f8ce3"
      },
      "execution_count": null,
      "outputs": [
        {
          "output_type": "stream",
          "name": "stdout",
          "text": [
            "10 20 30\n",
            "10 30\n",
            "{'a': 10, '_Demo__b': 20, '_c': 30}\n",
            "20\n",
            "10 20 30\n",
            "10 20 50\n",
            "{'a': 10, '_Demo__b': 20, '_c': 50}\n",
            "50\n"
          ]
        },
        {
          "output_type": "error",
          "ename": "AttributeError",
          "evalue": "'SubDemo' object has no attribute '_SubDemo__b'",
          "traceback": [
            "\u001b[0;31m---------------------------------------------------------------------------\u001b[0m",
            "\u001b[0;31mAttributeError\u001b[0m                            Traceback (most recent call last)",
            "\u001b[0;32m<ipython-input-14-f5bff917970c>\u001b[0m in \u001b[0;36m<cell line: 49>\u001b[0;34m()\u001b[0m\n\u001b[1;32m     47\u001b[0m \u001b[0mprint\u001b[0m\u001b[0;34m(\u001b[0m\u001b[0msubdemo\u001b[0m\u001b[0;34m.\u001b[0m\u001b[0m__dict__\u001b[0m\u001b[0;34m)\u001b[0m \u001b[0;31m# Private variable of Demo is part of subdemo but cannot be accessed in subdemo\u001b[0m\u001b[0;34m\u001b[0m\u001b[0;34m\u001b[0m\u001b[0m\n\u001b[1;32m     48\u001b[0m \u001b[0mprint\u001b[0m\u001b[0;34m(\u001b[0m\u001b[0msubdemo\u001b[0m\u001b[0;34m.\u001b[0m\u001b[0m_c\u001b[0m\u001b[0;34m)\u001b[0m \u001b[0;31m#protected can be accessed here\u001b[0m\u001b[0;34m\u001b[0m\u001b[0;34m\u001b[0m\u001b[0m\n\u001b[0;32m---> 49\u001b[0;31m \u001b[0msubdemo\u001b[0m\u001b[0;34m.\u001b[0m\u001b[0m_SubDemo__private_print\u001b[0m\u001b[0;34m(\u001b[0m\u001b[0;34m)\u001b[0m\u001b[0;34m\u001b[0m\u001b[0;34m\u001b[0m\u001b[0m\n\u001b[0m",
            "\u001b[0;32m<ipython-input-14-f5bff917970c>\u001b[0m in \u001b[0;36m__private_print\u001b[0;34m(self)\u001b[0m\n\u001b[1;32m     32\u001b[0m \u001b[0;34m\u001b[0m\u001b[0m\n\u001b[1;32m     33\u001b[0m   \u001b[0;32mdef\u001b[0m \u001b[0m__private_print\u001b[0m\u001b[0;34m(\u001b[0m\u001b[0mself\u001b[0m\u001b[0;34m)\u001b[0m\u001b[0;34m:\u001b[0m\u001b[0;34m\u001b[0m\u001b[0;34m\u001b[0m\u001b[0m\n\u001b[0;32m---> 34\u001b[0;31m     \u001b[0mprint\u001b[0m\u001b[0;34m(\u001b[0m\u001b[0mself\u001b[0m\u001b[0;34m.\u001b[0m\u001b[0ma\u001b[0m\u001b[0;34m,\u001b[0m \u001b[0mself\u001b[0m\u001b[0;34m.\u001b[0m\u001b[0m_SubDemo__b\u001b[0m\u001b[0;34m,\u001b[0m \u001b[0mself\u001b[0m\u001b[0;34m.\u001b[0m\u001b[0m_c\u001b[0m\u001b[0;34m)\u001b[0m\u001b[0;34m\u001b[0m\u001b[0;34m\u001b[0m\u001b[0m\n\u001b[0m\u001b[1;32m     35\u001b[0m \u001b[0;34m\u001b[0m\u001b[0m\n\u001b[1;32m     36\u001b[0m \u001b[0;34m\u001b[0m\u001b[0m\n",
            "\u001b[0;31mAttributeError\u001b[0m: 'SubDemo' object has no attribute '_SubDemo__b'"
          ]
        }
      ]
    },
    {
      "cell_type": "code",
      "source": [
        "#@title Operator overloading\n",
        "\n",
        "# If we want to define +,-,*,/,^ etc methods for custom datatypes we use operator overloading.\n",
        "# Each operator is associated with a magic method which should be overridden/defined. For eg: __add__, __mul__, __lt__, __ne__, __neg__ etc\n",
        "# Number of arguments should match the number of operands in the operator\n",
        "\n",
        "class Complex(object):\n",
        "  def __init__(self, r, i):\n",
        "    self.real = r\n",
        "    self.imaginary = i\n",
        "\n",
        "  def __add__(self, other):\n",
        "    return Complex(self.real + other.real, self.imaginary + other.imaginary)\n",
        "\n",
        "  def __str__(self):\n",
        "   return f\"({self.real}) + i({self.imaginary})\"\n",
        "\n",
        "  def __eq__(self, other):\n",
        "    return self.real == other.real and self.imaginary == other.imaginary\n",
        "\n",
        "  def __invert__(self):\n",
        "    return Complex(self.imaginary, self.real)\n",
        "\n",
        "  def __neg__(self):\n",
        "    return Complex(-1*self.real, -1*self.imaginary)\n",
        "\n",
        "num1 = Complex(2, 3)\n",
        "num2 = Complex(1, -5)\n",
        "print(num1, '\\n', num2)\n",
        "num3 = num1 + num2\n",
        "print(num3)\n",
        "print(num1.__add__(num2))\n",
        "print(Complex.__add__(num1, num2))\n",
        "print(~num2)\n",
        "print(-num1)"
      ],
      "metadata": {
        "colab": {
          "base_uri": "https://localhost:8080/"
        },
        "id": "ClwpMkksI3Ey",
        "outputId": "f26526a1-cafe-4625-c974-21d69ecaef6a"
      },
      "execution_count": null,
      "outputs": [
        {
          "output_type": "stream",
          "name": "stdout",
          "text": [
            "(2) + i(3) \n",
            " (1) + i(-5)\n",
            "(3) + i(-2)\n",
            "(3) + i(-2)\n",
            "(3) + i(-2)\n",
            "(-5) + i(1)\n",
            "(-2) + i(-3)\n"
          ]
        }
      ]
    },
    {
      "cell_type": "code",
      "source": [
        "#@title Polymorphism\n",
        "\n",
        "# Number OR type of arguments different, but name of method same\n",
        "\n",
        "# When we call a method of this object as myobject.method(arg1, arg2), this is automatically converted by Python into MyClass.method(myobject, arg1, arg2) – this is all the special self is about.\n",
        "\n"
      ],
      "metadata": {
        "id": "RbhQsg31PoLQ"
      },
      "execution_count": null,
      "outputs": []
    },
    {
      "cell_type": "code",
      "source": [
        "#@title Iterator and iterable\n",
        "\n",
        "# Iterable is an object which can be iterated over\n",
        "# Iterator is an object used to iterate over an iterable object using the next() method.\n",
        "# iter() method creates an iterator from an iterable\n",
        "\n",
        "# All iterators are iterables but all iterables are not iterators. Eg: strings can be iterated in a for loop, it is an iterable. But it is not an iterator by default\n",
        "# next(\"Hola!\") # throws an error because string is not an iterator but an iterable\n",
        "next(iter(\"Hola\")) # iter converts the string to an iterator and then we can use the next method\n",
        "\n",
        "# When a for loop is executed, for statement calls iter() on the object, which it is supposed to loop over.  If this call is successful, the iter call will return an iterator object that defines the method __next__(), which accesses elements of the object one at a time.\n",
        "# next() function throws a StopIteration exception when there is nothing else left to iterate over.\n",
        "\n",
        "# To check if the object is an iterable\n",
        "def it(ob):\n",
        "  try:\n",
        "    iter(ob)\n",
        "    return True\n",
        "  except TypeError:\n",
        "    return False\n",
        "print(\"Types: \", it(20), it(\"20\")) # You cannot make any random object type iterable using an iterator\n",
        "\n",
        "\n",
        "# How to make a custom classes iterable using an iterator - define __iter__ and __next__ methods\n",
        "class Counter:\n",
        "  def __init__(self, start, end):\n",
        "    self.num = start\n",
        "    self.end = end\n",
        "\n",
        "  def __iter__(self):\n",
        "    return self\n",
        "\n",
        "  def __next__(self):\n",
        "    if self.num > self.end: # this can be >, >= etc\n",
        "      raise StopIteration\n",
        "    else:\n",
        "      current = self.num\n",
        "      self.num += 2 # can customize how to step through\n",
        "      return current\n",
        "\n",
        "a, b = 2, 5\n",
        "c1 = Counter(a, b)\n",
        "c2 = Counter(a, b)\n",
        "\n",
        "# Way 1-to print the range without iter()\n",
        "for i in c1:\n",
        "  print (\"With for loop: \", i, end =\"\\n\")\n",
        "\n",
        "# Way 2- using iter()\n",
        "obj = iter(c2)\n",
        "try:\n",
        "  while True: # Print till error raised\n",
        "    print (\"With range\", next(obj))\n",
        "except:\n",
        "  # when StopIteration raised, Print custom message\n",
        "  print (\"GAME OVER\")"
      ],
      "metadata": {
        "colab": {
          "base_uri": "https://localhost:8080/"
        },
        "id": "C0spGgYxVDcS",
        "outputId": "e5987422-37fb-4f72-8aca-798ee3362ee5"
      },
      "execution_count": null,
      "outputs": [
        {
          "output_type": "stream",
          "name": "stdout",
          "text": [
            "Types:  False True\n",
            "With for loop:  2\n",
            "With for loop:  4\n",
            "With range 2\n",
            "With range 4\n",
            "GAME OVER\n"
          ]
        }
      ]
    },
    {
      "cell_type": "code",
      "source": [
        "#@title Generators\n",
        "\n",
        "# A generator in Python is a function that returns an iterator.\n",
        "# Iterators are objects that can be used to iterate over a sequence of values.\n",
        "# Generators are a powerful tool that can be used to create efficient and memory-saving code.\n",
        "# To create a generator, you use the yield keyword.\n",
        "# The yield keyword tells the generator to pause execution and return the current value.\n",
        "# When the generator is called again, it will resume execution from where it left off.\n",
        "\n",
        "# Generator is a way of creating functions that can return multiple values\n",
        "\n",
        "def generator():\n",
        "  yield 1\n",
        "  yield 2\n",
        "  yield 3\n",
        "\n",
        "for i in generator(): # the function call creates an iterator\n",
        "  print(i)\n",
        "\n",
        "\n",
        "# Generators can also be created using expressions.\n",
        "# These expressions are like list comprehension but with () instead of []\n",
        "for i in (i * 5 for i in range(5) if i%2==0):\n",
        "  print(i)\n",
        "\n",
        "# Applications\n",
        "# Suppose we create a stream of Fibonacci numbers, adopting the generator approach makes it trivial;\n",
        "# we just have to call next(x) to get the next Fibonacci number without bothering about where or when the stream of numbers ends.\n",
        "\n",
        "# A more practical type of stream processing is handling large data files such as log files.\n",
        "# Generators provide a space-efficient method for such data processing as only parts of the file are handled at one given point in time.\n",
        "# We can also use Iterators for these purposes, but Generator provides a quick way (We don’t need to write __next__ and __iter__ methods here)."
      ],
      "metadata": {
        "colab": {
          "base_uri": "https://localhost:8080/"
        },
        "id": "QJLY7tKjgTN8",
        "outputId": "d3631bc6-8e6b-4969-9706-0981e82a7804"
      },
      "execution_count": null,
      "outputs": [
        {
          "output_type": "stream",
          "name": "stdout",
          "text": [
            "1\n",
            "2\n",
            "3\n",
            "0\n",
            "10\n",
            "20\n"
          ]
        }
      ]
    },
    {
      "cell_type": "code",
      "source": [
        "#@title __repr__ and __str__\n",
        "\n",
        "# These represent the string form of an object. Analogous to toString.\n",
        "# repr usually used to print debug info by developers\n",
        "# str is user facing\n",
        "# if str not implemented then repr is called, if no repr defined, default repr called"
      ],
      "metadata": {
        "id": "CajEIcFcTB6p"
      },
      "execution_count": null,
      "outputs": []
    },
    {
      "cell_type": "code",
      "source": [
        "#@title Chr and Ord\n",
        "\n",
        "print(chr(65), ord('A'))"
      ],
      "metadata": {
        "colab": {
          "base_uri": "https://localhost:8080/"
        },
        "id": "dPMQ0AL3p7Lu",
        "outputId": "08dd9235-78b4-44b4-f62a-6b147ffa3b02"
      },
      "execution_count": null,
      "outputs": [
        {
          "output_type": "stream",
          "name": "stdout",
          "text": [
            "A 65\n"
          ]
        }
      ]
    },
    {
      "cell_type": "code",
      "source": [
        "#@title Bitwise OR\n",
        "\n",
        "print(chr(ord('A')^32))"
      ],
      "metadata": {
        "colab": {
          "base_uri": "https://localhost:8080/"
        },
        "id": "clKWnv1Lp_qi",
        "outputId": "9d79c453-e1a6-4eaf-d04b-8753737ee204"
      },
      "execution_count": null,
      "outputs": [
        {
          "output_type": "stream",
          "name": "stdout",
          "text": [
            "a\n"
          ]
        }
      ]
    },
    {
      "cell_type": "code",
      "source": [
        "#@title Map\n",
        "\n",
        "# map(func, iterable)\n",
        "\n",
        "new_list = list(map(lambda x: x**2, [i for i in range(10)]))\n",
        "new_list"
      ],
      "metadata": {
        "colab": {
          "base_uri": "https://localhost:8080/"
        },
        "id": "pecX7AmqqI8H",
        "outputId": "096402e7-2ea1-486a-90ff-40ac2637f16f"
      },
      "execution_count": null,
      "outputs": [
        {
          "output_type": "execute_result",
          "data": {
            "text/plain": [
              "[0, 1, 4, 9, 16, 25, 36, 49, 64, 81]"
            ]
          },
          "metadata": {},
          "execution_count": 5
        }
      ]
    }
  ]
}